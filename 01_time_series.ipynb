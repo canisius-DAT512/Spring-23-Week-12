{
 "cells": [
  {
   "cell_type": "markdown",
   "metadata": {},
   "source": [
    "<img src=\"https://dxbhsrqyrr690.cloudfront.net/sidearm.nextgen.sites/canisius.sidearmsports.com/images/responsive_2021/logo_main.svg\" style=\"float: left; margin: 20px; height: 55px\">\n",
    "\n",
    "# Working With Time Series Data\n",
    "\n",
    "---"
   ]
  },
  {
   "cell_type": "markdown",
   "metadata": {},
   "source": [
    "### Learning Objectives\n",
    " \n",
    "**After this lesson, you will be able to:**\n",
    "- Identify time series data.\n",
    "- Explain the challenges of working with time series data.\n",
    "- Use the `datetime` library to represent dates as objects.\n",
    "- Preprocess time series data with Pandas.\n",
    "\n",
    "---"
   ]
  },
  {
   "cell_type": "markdown",
   "metadata": {},
   "source": [
    "### Lesson Guide\n",
    "\n",
    "#### Time Series Data\n",
    "- [What is a Time Series](#A)\n",
    "- [The Datetime Library](#B)\n",
    "- [Preprocessing Time Series Data with Pandas](#C)\n",
    "- [Independent Practice](#D)\n",
    "----"
   ]
  },
  {
   "cell_type": "markdown",
   "metadata": {},
   "source": [
    "<h2><a id=\"A\">What is a Time Series?</a></h2>"
   ]
  },
  {
   "cell_type": "markdown",
   "metadata": {},
   "source": [
    "A **time series** is a series of data points that's indexed (or listed, or graphed) in time order. Most commonly, a time series is a sequence that's taken at successive equally spaced points in time. Time series are often represented as a set of observations that have a time-bound relation, which is represented as an index.\n",
    "\n",
    "Time series are commonly found in sales, analysis, stock market trends, economic phenomena, and social science problems.\n",
    "\n",
    "These data sets are often investigated to evaluate the long-term trends, forecast the future, or perform some other form of analysis."
   ]
  },
  {
   "cell_type": "markdown",
   "metadata": {},
   "source": [
    "> **Check for Understanding:** List some examples of real-world time series data."
   ]
  },
  {
   "cell_type": "markdown",
   "metadata": {},
   "source": [
    "### Let's take a look at some Apple stock data to get a feel for what time series data look like."
   ]
  },
  {
   "cell_type": "code",
   "execution_count": null,
   "metadata": {
    "ExecuteTime": {
     "end_time": "2022-03-01T03:11:00.058514Z",
     "start_time": "2022-03-01T03:10:56.882467Z"
    }
   },
   "outputs": [],
   "source": [
    "import pandas as pd\n",
    "from datetime import datetime\n",
    "from datetime import timedelta\n",
    "%matplotlib inline\n",
    "\n",
    "aapl = pd.read_csv(\"data/aapl.csv\")"
   ]
  },
  {
   "cell_type": "markdown",
   "metadata": {},
   "source": [
    "Take a high-level look at the data. What are we looking at?"
   ]
  },
  {
   "cell_type": "code",
   "execution_count": null,
   "metadata": {
    "ExecuteTime": {
     "end_time": "2022-03-01T03:11:03.033499Z",
     "start_time": "2022-03-01T03:11:03.001324Z"
    }
   },
   "outputs": [],
   "source": [
    "aapl.head()"
   ]
  },
  {
   "cell_type": "code",
   "execution_count": null,
   "metadata": {
    "ExecuteTime": {
     "end_time": "2022-03-01T03:11:03.658910Z",
     "start_time": "2022-03-01T03:11:03.616429Z"
    },
    "scrolled": true
   },
   "outputs": [],
   "source": [
    "aapl.describe()"
   ]
  },
  {
   "cell_type": "code",
   "execution_count": null,
   "metadata": {
    "ExecuteTime": {
     "end_time": "2022-03-01T03:11:04.275535Z",
     "start_time": "2022-03-01T03:11:04.254862Z"
    }
   },
   "outputs": [],
   "source": [
    "aapl.info()"
   ]
  },
  {
   "cell_type": "markdown",
   "metadata": {},
   "source": [
    "<h2><a id=\"B\">The DateTime library</a></h2>"
   ]
  },
  {
   "cell_type": "markdown",
   "metadata": {},
   "source": [
    "As time is important to time series data, we will need to interpret these data in the ways that humans interpret them (which is many ways). \n",
    "\n",
    "Python's `DateTime` library is great for dealing with time-related data, and Pandas has incorporated this library into its own `datetime` series and objects.\n",
    "\n",
    "In this lesson, we'll review these data types and learn a little more about each of them:\n",
    "\n",
    "* `datetime` objects.\n",
    "* `datetime` series.\n",
    "* Timestamps.\n",
    "* `timedelta()`."
   ]
  },
  {
   "cell_type": "markdown",
   "metadata": {},
   "source": [
    "### `datetime` Objects"
   ]
  },
  {
   "cell_type": "markdown",
   "metadata": {},
   "source": [
    "Below, we'll load in the `DateTime` library, which we can use to create a `datetime` object by entering in the different components of the date as arguments.\n",
    "\n",
    "The datetime library is something you should already have from Anaconda. We imported it above as follows:\n",
    "\n",
    "`from datetime import datetime`"
   ]
  },
  {
   "cell_type": "code",
   "execution_count": null,
   "metadata": {
    "ExecuteTime": {
     "end_time": "2022-03-01T03:12:11.763983Z",
     "start_time": "2022-03-01T03:12:11.751321Z"
    }
   },
   "outputs": [],
   "source": [
    "# Let's just set a random datetime — not the end of the world or anything.\n",
    "lesson_date = datetime(2031, 3, 8, 4, 10 , 10, 650020)"
   ]
  },
  {
   "cell_type": "code",
   "execution_count": null,
   "metadata": {
    "ExecuteTime": {
     "end_time": "2022-03-01T03:12:13.605946Z",
     "start_time": "2022-03-01T03:12:13.600455Z"
    }
   },
   "outputs": [],
   "source": [
    "lesson_date"
   ]
  },
  {
   "cell_type": "code",
   "execution_count": null,
   "metadata": {
    "ExecuteTime": {
     "end_time": "2022-03-01T03:12:15.157218Z",
     "start_time": "2022-03-01T03:12:15.151481Z"
    }
   },
   "outputs": [],
   "source": [
    "print(\"Year\", lesson_date.year)\n",
    "print(\"Month\",lesson_date.month)\n",
    "print(\"Day\", lesson_date.day)\n",
    "print(\"Hour\", lesson_date.hour)\n",
    "print(\"Minute\", lesson_date.minute)\n",
    "print(\"Second\", lesson_date.second)\n",
    "print(\"Micro-Second\", lesson_date.microsecond)\n",
    "\n"
   ]
  },
  {
   "cell_type": "markdown",
   "metadata": {},
   "source": [
    "The components of the date are accessible via the object's attributes."
   ]
  },
  {
   "cell_type": "markdown",
   "metadata": {},
   "source": [
    "**Exercise: Set your own date**\n"
   ]
  },
  {
   "cell_type": "code",
   "execution_count": null,
   "metadata": {
    "ExecuteTime": {
     "end_time": "2021-09-23T20:15:31.710295Z",
     "start_time": "2021-09-23T20:15:31.705873Z"
    }
   },
   "outputs": [],
   "source": [
    "your_date = datetime(????)"
   ]
  },
  {
   "cell_type": "code",
   "execution_count": null,
   "metadata": {
    "ExecuteTime": {
     "end_time": "2021-09-23T20:15:32.960721Z",
     "start_time": "2021-09-23T20:15:32.948825Z"
    }
   },
   "outputs": [],
   "source": [
    "print(\"Year\", your_date.year)\n",
    "print(\"Month\",your_date.month)\n",
    "print(\"Day\", your_date.day)\n",
    "print(\"Hour\", your_date.hour)\n",
    "print(\"Minute\", your_date.minute)\n",
    "print(\"Second\", your_date.second)\n",
    "print(\"Micro-Second\", your_date.microsecond)\n"
   ]
  },
  {
   "cell_type": "markdown",
   "metadata": {},
   "source": [
    "### `timedelta()`"
   ]
  },
  {
   "cell_type": "markdown",
   "metadata": {},
   "source": [
    "Suppose we want to add time to or subtract time from a date. Maybe we're using time as an index and want to get everything that happened a week before a specific observation.\n",
    "\n",
    "We can use a `timedelta` object to shift a `datetime` object. Here's an example:"
   ]
  },
  {
   "cell_type": "code",
   "execution_count": null,
   "metadata": {
    "ExecuteTime": {
     "end_time": "2022-03-01T03:13:01.119205Z",
     "start_time": "2022-03-01T03:13:01.114228Z"
    }
   },
   "outputs": [],
   "source": [
    "# Import timedelta() from the DateTime library. This was done above.\n",
    "#from datetime import timedelta\n",
    "\n",
    "# Timedeltas represent time as an amount rather than as a fixed position.\n",
    "offset = timedelta(days=1, seconds=20)\n",
    "\n",
    "# The timedelta() has attributes that allow us to extract values from it.\n",
    "print('offset days', offset.days)\n",
    "print('offset seconds', offset.seconds)\n",
    "print('offset microseconds', offset.microseconds)"
   ]
  },
  {
   "cell_type": "code",
   "execution_count": null,
   "metadata": {
    "ExecuteTime": {
     "end_time": "2022-03-01T03:14:04.822678Z",
     "start_time": "2022-03-01T03:14:04.817468Z"
    }
   },
   "outputs": [],
   "source": [
    "lesson_date"
   ]
  },
  {
   "cell_type": "code",
   "execution_count": null,
   "metadata": {
    "ExecuteTime": {
     "end_time": "2022-03-01T03:14:06.939323Z",
     "start_time": "2022-03-01T03:14:06.923107Z"
    }
   },
   "outputs": [],
   "source": [
    "lesson_date + offset"
   ]
  },
  {
   "cell_type": "markdown",
   "metadata": {},
   "source": [
    "`datetime`'s `.now()` function will give you the `datetime` object of this very moment."
   ]
  },
  {
   "cell_type": "code",
   "execution_count": null,
   "metadata": {
    "ExecuteTime": {
     "end_time": "2022-03-01T03:14:31.242074Z",
     "start_time": "2022-03-01T03:14:31.234647Z"
    }
   },
   "outputs": [],
   "source": [
    "now = datetime.now()\n",
    "print(\"Like Right Now: \", now)"
   ]
  },
  {
   "cell_type": "markdown",
   "metadata": {},
   "source": [
    "The current time is particularly useful when using `timedelta()`."
   ]
  },
  {
   "cell_type": "code",
   "execution_count": null,
   "metadata": {
    "ExecuteTime": {
     "end_time": "2022-03-01T03:14:34.733687Z",
     "start_time": "2022-03-01T03:14:34.728280Z"
    }
   },
   "outputs": [],
   "source": [
    "print(\"Future: \", now + offset)\n",
    "print(\"Past: \", now - offset)"
   ]
  },
  {
   "cell_type": "markdown",
   "metadata": {},
   "source": [
    "*Note: The largest value a `timedelta()` can hold is days. For instance, you can't say you want your offset to be two years, 44 days, and 12 hours; you have to convert those years to days.*"
   ]
  },
  {
   "cell_type": "markdown",
   "metadata": {},
   "source": [
    "You can read more about the `timedelta()` category [here](https://docs.python.org/2/library/datetime.html)."
   ]
  },
  {
   "cell_type": "markdown",
   "metadata": {},
   "source": [
    "### Guided Practice: Apple Stock Data"
   ]
  },
  {
   "cell_type": "markdown",
   "metadata": {},
   "source": [
    "We can practice using `datetime` functions and objects using Apple stock data."
   ]
  },
  {
   "cell_type": "code",
   "execution_count": null,
   "metadata": {
    "ExecuteTime": {
     "end_time": "2022-03-01T03:14:40.857254Z",
     "start_time": "2022-03-01T03:14:40.844542Z"
    }
   },
   "outputs": [],
   "source": [
    "aapl.head()"
   ]
  },
  {
   "cell_type": "markdown",
   "metadata": {},
   "source": [
    "The `Date` column starts off as an object."
   ]
  },
  {
   "cell_type": "code",
   "execution_count": null,
   "metadata": {
    "ExecuteTime": {
     "end_time": "2022-03-01T03:14:42.254825Z",
     "start_time": "2022-03-01T03:14:42.243361Z"
    }
   },
   "outputs": [],
   "source": [
    "# Notice that date is a string\n",
    "aapl.dtypes"
   ]
  },
  {
   "cell_type": "markdown",
   "metadata": {},
   "source": [
    "## Preprocessing Time Series Data with Pandas"
   ]
  },
  {
   "cell_type": "markdown",
   "metadata": {},
   "source": [
    "### Convert time data to a `datetime` object."
   ]
  },
  {
   "cell_type": "markdown",
   "metadata": {},
   "source": [
    "Overwrite the original `Date` column with one that's been converted to a `datetime` series."
   ]
  },
  {
   "cell_type": "code",
   "execution_count": null,
   "metadata": {
    "ExecuteTime": {
     "end_time": "2022-03-01T03:14:46.788642Z",
     "start_time": "2022-03-01T03:14:46.749960Z"
    }
   },
   "outputs": [],
   "source": [
    "aapl['Date'] = pd.to_datetime(aapl.Date)"
   ]
  },
  {
   "cell_type": "markdown",
   "metadata": {},
   "source": [
    "We can see these changes reflected in the `Date` column structure."
   ]
  },
  {
   "cell_type": "code",
   "execution_count": null,
   "metadata": {
    "ExecuteTime": {
     "end_time": "2022-03-01T03:14:51.005763Z",
     "start_time": "2022-03-01T03:14:50.985911Z"
    }
   },
   "outputs": [],
   "source": [
    "aapl.head()"
   ]
  },
  {
   "cell_type": "markdown",
   "metadata": {},
   "source": [
    "We can also see that the `Date` object has changed. "
   ]
  },
  {
   "cell_type": "code",
   "execution_count": null,
   "metadata": {
    "ExecuteTime": {
     "end_time": "2022-03-01T03:14:54.391527Z",
     "start_time": "2022-03-01T03:14:54.384112Z"
    }
   },
   "outputs": [],
   "source": [
    "aapl.dtypes"
   ]
  },
  {
   "cell_type": "markdown",
   "metadata": {},
   "source": [
    "### The `.dt` Attribute"
   ]
  },
  {
   "cell_type": "markdown",
   "metadata": {},
   "source": [
    "Pandas' `datetime` columns have a `.dt` attribute that allows you to access attributes that are specific to dates. For example:\n",
    "\n",
    "    aapl.Date.dt.day\n",
    "    aapl.Date.dt.month\n",
    "    aapl.Date.dt.year\n",
    "    aapl.Date.dt.day_name()\n",
    "\n",
    "And, there are many more!"
   ]
  },
  {
   "cell_type": "code",
   "execution_count": null,
   "metadata": {
    "ExecuteTime": {
     "end_time": "2022-03-01T03:14:58.206590Z",
     "start_time": "2022-03-01T03:14:58.192140Z"
    }
   },
   "outputs": [],
   "source": [
    "aapl['Date'].dt.day_name().head()"
   ]
  },
  {
   "cell_type": "code",
   "execution_count": null,
   "metadata": {
    "ExecuteTime": {
     "end_time": "2022-03-01T03:14:58.608614Z",
     "start_time": "2022-03-01T03:14:58.597258Z"
    }
   },
   "outputs": [],
   "source": [
    "aapl.Date.dt.dayofyear.head()"
   ]
  },
  {
   "cell_type": "markdown",
   "metadata": {},
   "source": [
    "Check out the Pandas `.dt` [documentation](https://pandas.pydata.org/pandas-docs/stable/generated/pandas.Series.dt.html) for more information."
   ]
  },
  {
   "cell_type": "markdown",
   "metadata": {},
   "source": [
    "### Timestamps"
   ]
  },
  {
   "cell_type": "markdown",
   "metadata": {},
   "source": [
    "Timestamps are useful objects for comparisons. You can create a timestamp object using the `pd.to_datetime()` function and a string specifying the date. These objects are especially helpful when you need to perform logical filtering with dates."
   ]
  },
  {
   "cell_type": "code",
   "execution_count": null,
   "metadata": {
    "ExecuteTime": {
     "end_time": "2022-03-01T03:15:00.118155Z",
     "start_time": "2022-03-01T03:15:00.078828Z"
    }
   },
   "outputs": [],
   "source": [
    "ts = pd.to_datetime('1/1/2017')\n",
    "ts"
   ]
  },
  {
   "cell_type": "markdown",
   "metadata": {},
   "source": [
    "The main difference between a `datetime` object and a timestamp is that timestamps can be used as comparisons."
   ]
  },
  {
   "cell_type": "markdown",
   "metadata": {},
   "source": [
    "Let's use the timestamp `ts` as a comparison with our Apple stock data."
   ]
  },
  {
   "cell_type": "code",
   "execution_count": null,
   "metadata": {
    "ExecuteTime": {
     "end_time": "2022-03-01T03:15:01.431092Z",
     "start_time": "2022-03-01T03:15:01.414364Z"
    }
   },
   "outputs": [],
   "source": [
    "aapl.loc[aapl.Date >= ts, :].head()"
   ]
  },
  {
   "cell_type": "markdown",
   "metadata": {},
   "source": [
    "We can even get the first and last dates from a time series."
   ]
  },
  {
   "cell_type": "code",
   "execution_count": null,
   "metadata": {
    "ExecuteTime": {
     "end_time": "2022-03-01T03:15:02.502095Z",
     "start_time": "2022-03-01T03:15:02.480085Z"
    }
   },
   "outputs": [],
   "source": [
    "aapl.Date.max() - aapl.Date.min()"
   ]
  },
  {
   "cell_type": "markdown",
   "metadata": {},
   "source": [
    "> **Check for Understanding:** Why do we convert the DataFrame column containing the time information into a `datetime` object?"
   ]
  },
  {
   "cell_type": "markdown",
   "metadata": {
    "collapsed": true
   },
   "source": [
    "### Set `datetime` to Index the DataFrame"
   ]
  },
  {
   "cell_type": "markdown",
   "metadata": {},
   "source": [
    "After converting the column containing time data from object to `datetime`, it is also useful to make the index of the DataFrame a `datetime`."
   ]
  },
  {
   "cell_type": "code",
   "execution_count": null,
   "metadata": {
    "ExecuteTime": {
     "end_time": "2022-03-01T03:15:04.161634Z",
     "start_time": "2022-03-01T03:15:04.144045Z"
    }
   },
   "outputs": [],
   "source": [
    "aapl.head()"
   ]
  },
  {
   "cell_type": "markdown",
   "metadata": {},
   "source": [
    "Let's set the `Date` column as the index."
   ]
  },
  {
   "cell_type": "code",
   "execution_count": null,
   "metadata": {
    "ExecuteTime": {
     "end_time": "2022-03-01T03:15:04.754693Z",
     "start_time": "2022-03-01T03:15:04.747552Z"
    }
   },
   "outputs": [],
   "source": [
    "aapl.set_index('Date', inplace=True)"
   ]
  },
  {
   "cell_type": "code",
   "execution_count": null,
   "metadata": {
    "ExecuteTime": {
     "end_time": "2022-03-01T03:15:05.164103Z",
     "start_time": "2022-03-01T03:15:05.147193Z"
    },
    "scrolled": true
   },
   "outputs": [],
   "source": [
    "aapl.head()"
   ]
  },
  {
   "cell_type": "code",
   "execution_count": null,
   "metadata": {
    "ExecuteTime": {
     "end_time": "2022-03-01T03:15:05.494643Z",
     "start_time": "2022-03-01T03:15:05.478688Z"
    }
   },
   "outputs": [],
   "source": [
    "aapl.info()"
   ]
  },
  {
   "cell_type": "markdown",
   "metadata": {},
   "source": [
    "### Filtering by Date with Pandas"
   ]
  },
  {
   "cell_type": "markdown",
   "metadata": {},
   "source": [
    "It is easy to filter by date using Pandas. Let's create a subset of data containing only the stock prices from 2017. We can specify the index as a string constant. "
   ]
  },
  {
   "cell_type": "code",
   "execution_count": null,
   "metadata": {
    "ExecuteTime": {
     "end_time": "2022-03-01T03:15:11.430093Z",
     "start_time": "2022-03-01T03:15:11.340193Z"
    }
   },
   "outputs": [],
   "source": [
    "aapl['2016']"
   ]
  },
  {
   "cell_type": "markdown",
   "metadata": {},
   "source": [
    "There are a few things to note about indexing with time series. Unlike numeric indexing, the end index will be included. If you want to index with a range, the time indices must be sorted first.  "
   ]
  },
  {
   "cell_type": "markdown",
   "metadata": {},
   "source": [
    "> **Recap:** The steps for preprocessing time series data are to:\n",
    "* Convert time data to a `datetime` object.\n",
    "* Set `datetime` to index the DataFrame."
   ]
  },
  {
   "cell_type": "markdown",
   "metadata": {},
   "source": [
    "# Recap"
   ]
  },
  {
   "cell_type": "markdown",
   "metadata": {},
   "source": [
    "* We use time series analysis to identify changes in values over time.\n",
    "* The `datetime` library makes working with time data more convenient.\n",
    "* To preprocess time series data with Pandas, you:\n",
    "    1. Convert the time column to a `datetime` object.\n",
    "    2. Set the time column as the index of the DataFrame."
   ]
  },
  {
   "cell_type": "markdown",
   "metadata": {},
   "source": [
    "<h2><a id=\"D\">Independent Practice</a></h2>"
   ]
  },
  {
   "cell_type": "markdown",
   "metadata": {},
   "source": [
    "**Instructor Note**: These are optional and can be assigned as student practice questions outside of class."
   ]
  },
  {
   "cell_type": "markdown",
   "metadata": {},
   "source": [
    "### 1) Create a `datetime` object representing today's date."
   ]
  },
  {
   "cell_type": "code",
   "execution_count": null,
   "metadata": {
    "ExecuteTime": {
     "end_time": "2021-09-23T20:44:39.943919Z",
     "start_time": "2021-09-23T20:44:39.938696Z"
    }
   },
   "outputs": [],
   "source": [
    "todays_date = datetime(???)\n",
    "todays_date"
   ]
  },
  {
   "cell_type": "markdown",
   "metadata": {},
   "source": [
    "### 2) Load the UFO data set from the internet."
   ]
  },
  {
   "cell_type": "code",
   "execution_count": null,
   "metadata": {
    "ExecuteTime": {
     "end_time": "2022-03-01T03:16:13.449824Z",
     "start_time": "2022-03-01T03:16:13.035860Z"
    }
   },
   "outputs": [],
   "source": [
    "# Import ufo data\n",
    "\n",
    "ufo = pd.read_csv('http://bit.ly/uforeports')"
   ]
  },
  {
   "cell_type": "code",
   "execution_count": null,
   "metadata": {
    "ExecuteTime": {
     "end_time": "2022-03-01T03:16:14.011894Z",
     "start_time": "2022-03-01T03:16:13.995317Z"
    }
   },
   "outputs": [],
   "source": [
    "# look at the \n",
    "ufo.tail()"
   ]
  },
  {
   "cell_type": "code",
   "execution_count": null,
   "metadata": {
    "ExecuteTime": {
     "end_time": "2022-03-01T03:16:14.673076Z",
     "start_time": "2022-03-01T03:16:14.666852Z"
    }
   },
   "outputs": [],
   "source": [
    "ufo.dtypes"
   ]
  },
  {
   "cell_type": "markdown",
   "metadata": {},
   "source": [
    "### 3) Convert the `Time` column to a `datetime` object."
   ]
  },
  {
   "cell_type": "code",
   "execution_count": null,
   "metadata": {
    "ExecuteTime": {
     "end_time": "2021-09-23T20:39:47.776564Z",
     "start_time": "2021-09-23T20:39:45.626717Z"
    }
   },
   "outputs": [],
   "source": [
    "ufo['Time'] = None"
   ]
  },
  {
   "cell_type": "code",
   "execution_count": null,
   "metadata": {
    "ExecuteTime": {
     "end_time": "2021-09-23T20:39:52.850918Z",
     "start_time": "2021-09-23T20:39:52.843510Z"
    }
   },
   "outputs": [],
   "source": [
    "ufo.dtypes"
   ]
  },
  {
   "cell_type": "code",
   "execution_count": null,
   "metadata": {
    "ExecuteTime": {
     "end_time": "2021-09-23T20:39:57.669702Z",
     "start_time": "2021-09-23T20:39:57.649467Z"
    }
   },
   "outputs": [],
   "source": [
    "ufo.head()"
   ]
  },
  {
   "cell_type": "markdown",
   "metadata": {},
   "source": [
    "### 4) Set the `Time` column to the index of the dataframe."
   ]
  },
  {
   "cell_type": "code",
   "execution_count": null,
   "metadata": {
    "ExecuteTime": {
     "end_time": "2021-09-23T20:40:25.023582Z",
     "start_time": "2021-09-23T20:40:25.018000Z"
    }
   },
   "outputs": [],
   "source": [
    "# Set the index of the dataframe to be the Time column\n",
    "ufo.???"
   ]
  },
  {
   "cell_type": "code",
   "execution_count": null,
   "metadata": {
    "ExecuteTime": {
     "end_time": "2021-09-23T20:40:32.217107Z",
     "start_time": "2021-09-23T20:40:32.196335Z"
    },
    "scrolled": true
   },
   "outputs": [],
   "source": [
    "ufo.head()"
   ]
  },
  {
   "cell_type": "code",
   "execution_count": null,
   "metadata": {
    "ExecuteTime": {
     "end_time": "2021-09-23T20:46:12.660544Z",
     "start_time": "2021-09-23T20:46:12.596176Z"
    }
   },
   "outputs": [],
   "source": [
    "ufo.info()"
   ]
  },
  {
   "cell_type": "markdown",
   "metadata": {},
   "source": [
    "### 5) Create a `timestamp` object for the date January 1, 1999."
   ]
  },
  {
   "cell_type": "code",
   "execution_count": null,
   "metadata": {
    "ExecuteTime": {
     "end_time": "2021-09-23T20:46:46.937097Z",
     "start_time": "2021-09-23T20:46:46.923481Z"
    }
   },
   "outputs": [],
   "source": [
    "ts = None\n",
    "ts"
   ]
  },
  {
   "cell_type": "markdown",
   "metadata": {},
   "source": [
    "### 6) Use the `timestamp` object to perform logical filtering on the DataFrame and create a subset of entries with a date above or equal to January 1, 1999."
   ]
  },
  {
   "cell_type": "code",
   "execution_count": null,
   "metadata": {
    "ExecuteTime": {
     "end_time": "2021-09-23T20:48:18.937839Z",
     "start_time": "2021-09-23T20:48:18.890495Z"
    },
    "scrolled": true
   },
   "outputs": [],
   "source": [
    "after_jan = ufo.index >= ts\n",
    "\n",
    "recent_ufos = ufo.loc[after_jan, :]\n",
    "recent_ufos.head()"
   ]
  },
  {
   "cell_type": "code",
   "execution_count": null,
   "metadata": {
    "ExecuteTime": {
     "end_time": "2021-09-23T20:41:51.331526Z",
     "start_time": "2021-09-23T20:41:51.317297Z"
    }
   },
   "outputs": [],
   "source": [
    "\n"
   ]
  },
  {
   "cell_type": "code",
   "execution_count": null,
   "metadata": {},
   "outputs": [],
   "source": []
  }
 ],
 "metadata": {
  "kernelspec": {
   "display_name": "Python 3 (ipykernel)",
   "language": "python",
   "name": "python3"
  },
  "language_info": {
   "codemirror_mode": {
    "name": "ipython",
    "version": 3
   },
   "file_extension": ".py",
   "mimetype": "text/x-python",
   "name": "python",
   "nbconvert_exporter": "python",
   "pygments_lexer": "ipython3",
   "version": "3.9.12"
  },
  "toc": {
   "base_numbering": 1,
   "nav_menu": {},
   "number_sections": false,
   "sideBar": true,
   "skip_h1_title": false,
   "title_cell": "Table of Contents",
   "title_sidebar": "Contents",
   "toc_cell": false,
   "toc_position": {},
   "toc_section_display": true,
   "toc_window_display": false
  }
 },
 "nbformat": 4,
 "nbformat_minor": 2
}
